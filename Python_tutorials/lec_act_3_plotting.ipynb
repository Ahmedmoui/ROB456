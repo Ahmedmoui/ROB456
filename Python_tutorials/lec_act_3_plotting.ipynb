{
 "cells": [
  {
   "cell_type": "code",
   "execution_count": null,
   "metadata": {
    "deletable": false,
    "editable": false
   },
   "outputs": [],
   "source": [
    "# Initialize Otter\n",
    "import otter\n",
    "grader = otter.Notebook(\"lec_act_3_plotting.ipynb\")"
   ]
  },
  {
   "cell_type": "markdown",
   "metadata": {},
   "source": [
    "# Lecture goals\n",
    "\n",
    "1. Understand the difference between a figure/window and a plotting area/subplot/axes\n",
    "2. Be able to create a figure with subplots in it\n",
    "3. Plot something in the subplot and label it\n",
    "4. Pass parameters to functions by both position and name\n",
    "\n",
    "Note: To see what the correct result should look like, see slides https://docs.google.com/presentation/d/1IiGGUNet-4Nj07x2cTXU6IOYXy9TSdAF5OUWCCKIYEM/edit?usp=sharing\n"
   ]
  },
  {
   "cell_type": "raw",
   "metadata": {},
   "source": [
    "# Install a pip package in the current Jupyter kernel\n",
    "# Note: this is a safety check in case your JN install was not in the same place as your libraries\n",
    "import sys\n",
    "!{sys.executable} -m pip install matplotlib"
   ]
  },
  {
   "cell_type": "code",
   "execution_count": null,
   "metadata": {},
   "outputs": [],
   "source": [
    "# Access all numpy functions as np.\n",
    "import numpy as np\n",
    "import matplotlib.pyplot as plt\n",
    "%matplotlib inline\n",
    "import json as json"
   ]
  },
  {
   "cell_type": "markdown",
   "metadata": {
    "deletable": false,
    "editable": false
   },
   "source": [
    "## Read data\n",
    "\n",
    "TODO: Read in the Wrist_torque_data.csv file. This is the data we'll be plotting; note that this data is the result of calling **get_channel_data** for the wrist torque data - it is **n_picks** by **n_timesteps * 3**."
   ]
  },
  {
   "cell_type": "code",
   "execution_count": null,
   "metadata": {
    "tags": []
   },
   "outputs": [],
   "source": [
    "# Load in the Wrist_torque_data.csv file\n",
    "#  Note: Use the filename \"Data/Wrist_torque_data.csv\" - do not put in a full path name/a different file name, or the\n",
    "#   autograder on Gradescope will fail and you'll get a zero.\n",
    "\n",
    "\n",
    "wrist_torque_data = ..."
   ]
  },
  {
   "cell_type": "code",
   "execution_count": null,
   "metadata": {
    "deletable": false,
    "editable": false
   },
   "outputs": [],
   "source": [
    "grader.check(\"Read data\")"
   ]
  },
  {
   "cell_type": "markdown",
   "metadata": {
    "deletable": false,
    "editable": false
   },
   "source": [
    "## Get data\n",
    "\n",
    "TODO: Get the Wrist torque **z** channel for the first row of pick data (these will be the y values you plot with). Create the **t** (time) values (these will be the x values you plot with). Remember that the z values start at index 2 and are every 3rd value\n",
    "\n",
    "For the **t** values, assume the data is sampled at 30 Hz, i.e., the time sampling is 1/30th of a second\n",
    "\n",
    "- Step 1: How big does the t array have to be? (hint: How many z values are there for the wrist torque data? What was n_time_steps?)\n",
    "- Step 2: How do you make an array of that size with that spacing? (hint: **np.arange**)\n"
   ]
  },
  {
   "cell_type": "code",
   "execution_count": null,
   "metadata": {
    "tags": []
   },
   "outputs": [],
   "source": [
    "# TODO: Create a numpy array that starts at 0, ends at number of time steps * time_step, and has step size time_step\n",
    "#   See np.arange\n",
    "# Step 1: Calculate the number of time steps in the data (assume a data spacing of 3)\n",
    "# Step 2: Create a numpy array with that many elements with a spacing of 1.0/30.0 (30 Hz) (this is ts)\n",
    "# Step 3: Get out just the z values from the wrist torque data (this is z_values) for the first row\n",
    "\n",
    "\n",
    "# TODO Set up the time (x axis) data \n",
    "time_step = ...   # This is 1/30th of a second\n",
    "n_time_steps = ... # This is the number of time steps/data samples. You should calculate it from wrist_torque_data\n",
    "# Use the above, with np.arrange, to create the t values\n",
    "ts = ...\n",
    "z_values = ...\n",
    "\n",
    "# Use this to check that your data is the right size - both should be of size (40,)\n",
    "#  Note: it says (40,) instead of (40,1). That's just numpy's way of saying that it's a 1 dimensional array,\n",
    "#   or a tuple with 1 value\n",
    "print(f\"ts is size {ts.shape}\")\n",
    "print(f\"z_values is size {z_values.shape}\")\n"
   ]
  },
  {
   "cell_type": "code",
   "execution_count": null,
   "metadata": {
    "deletable": false,
    "editable": false
   },
   "outputs": [],
   "source": [
    "grader.check(\"Get data\")"
   ]
  },
  {
   "cell_type": "markdown",
   "metadata": {
    "deletable": false,
    "editable": false
   },
   "source": [
    "## Plot data\n",
    "\n",
    "TODO: Plot the **ts** versus **z_values** data. Make sure to add x and y labels, along with a title.\n",
    "\n",
    "x-axis label: time - make sure to use units (seconds) in the label\n",
    "\n",
    "y-axis label: what you're plotting - make sure you use the units (N.m)\n",
    "\n",
    "Title: Should be what data channel this is"
   ]
  },
  {
   "cell_type": "code",
   "execution_count": null,
   "metadata": {
    "tags": []
   },
   "outputs": [],
   "source": [
    "# Create the plotting window. Use subplots.\n",
    "nrows = 1\n",
    "ncols = 1\n",
    "\n",
    "fig, axs = ..."
   ]
  },
  {
   "cell_type": "code",
   "execution_count": null,
   "metadata": {
    "deletable": false,
    "editable": false
   },
   "outputs": [],
   "source": [
    "grader.check(\"Plot data\")"
   ]
  },
  {
   "cell_type": "markdown",
   "metadata": {
    "deletable": false,
    "editable": false
   },
   "source": [
    "## Hours and collaborators\n",
    "Required for every assignment - fill out before you hand-in.\n",
    "\n",
    "Listing names and websites helps you to document who you worked with and what internet help you received in the case of any plagiarism issues. You should list names of anyone (in class or not) who has substantially helped you with an assignment - or anyone you have *helped*. You do not need to list TAs.\n",
    "\n",
    "Listing hours helps us track if the assignments are too long."
   ]
  },
  {
   "cell_type": "code",
   "execution_count": null,
   "metadata": {
    "tags": []
   },
   "outputs": [],
   "source": [
    "\n",
    "# List of names (creates a set)\n",
    "worked_with_names = {\"not filled out\"}\n",
    "# List of URLS TAF4 (creates a set)\n",
    "websites = {\"not filled out\"}\n",
    "# Approximate number of hours, including lab/in-class time\n",
    "hours = -1.5"
   ]
  },
  {
   "cell_type": "code",
   "execution_count": null,
   "metadata": {
    "deletable": false,
    "editable": false
   },
   "outputs": [],
   "source": [
    "grader.check(\"hours_collaborators\")"
   ]
  },
  {
   "cell_type": "markdown",
   "metadata": {},
   "source": [
    "### To submit\n",
    "\n",
    "- Do a restart then run all to make sure everything runs ok\n",
    "- Save the file\n",
    "- Submit just this .ipynb file through gradescope, Lecture activity 3, plotting\n",
    "- You do NOT need to submit the data files - we will supply those\n",
    "- Where there are given variable/file names (eg, foo = ...) DON'T change those, or the autograder will fail\n",
    "\n",
    "If the Gradescope autograder fails, please check here first for common reasons for it to fail\n",
    "    https://docs.google.com/presentation/d/1tYa5oycUiG4YhXUq5vHvPOpWJ4k_xUPp2rUNIL7Q9RI/edit?usp=sharing\n",
    "\n",
    "Most likely failure for this assignment is not naming the data directory and files correctly; capitalization matters for the Gradescope grader. \n",
    "\n",
    "Second most likely cause for failure is reading in any file but ./Data/Wrist_torque_data.csv \n",
    "\n",
    "RUN YOUR FILE AND SAVE SO THE PLOTS SHOW"
   ]
  }
 ],
 "metadata": {
  "kernelspec": {
   "display_name": "Python 3",
   "language": "python",
   "name": "python3"
  },
  "language_info": {
   "codemirror_mode": {
    "name": "ipython",
    "version": 3
   },
   "file_extension": ".py",
   "mimetype": "text/x-python",
   "name": "python",
   "nbconvert_exporter": "python",
   "pygments_lexer": "ipython3",
   "version": "3.11.7"
  },
  "otter": {
   "OK_FORMAT": true,
   "tests": {
    "Get data": {
     "name": "Get data",
     "points": 2,
     "suites": [
      {
       "cases": [
        {
         "code": ">>> assert ts.size == 40\n",
         "hidden": false,
         "locked": false
        },
        {
         "code": ">>> assert z_values.size == 40\n",
         "hidden": false,
         "locked": false
        },
        {
         "code": ">>> assert np.isclose(ts[0], 0.0)\n",
         "hidden": false,
         "locked": false
        },
        {
         "code": ">>> assert np.isclose(ts[-1], 1.3)\n",
         "hidden": false,
         "locked": false
        },
        {
         "code": ">>> assert np.isclose(z_values[0], 0.12849379, atol=0.001)\n",
         "hidden": false,
         "locked": false
        },
        {
         "code": ">>> assert np.isclose(z_values[-1], -0.077284, atol=0.001)\n",
         "hidden": false,
         "locked": false
        }
       ],
       "scored": true,
       "setup": "",
       "teardown": "",
       "type": "doctest"
      }
     ]
    },
    "Plot data": {
     "name": "Plot data",
     "points": 2,
     "suites": [
      {
       "cases": [
        {
         "code": ">>> assert ts.shape == z_values.shape\n",
         "hidden": false,
         "locked": false
        },
        {
         "code": ">>> assert 's' in axs.get_xlabel() or 'S' in axs.get_xlabel()\n",
         "hidden": false,
         "locked": false
        },
        {
         "code": ">>> assert 'N.m' in axs.get_ylabel()\n",
         "hidden": false,
         "locked": false
        },
        {
         "code": ">>> assert 'rist' in axs.get_title() and 'orque' in axs.get_title()\n",
         "hidden": false,
         "locked": false
        }
       ],
       "scored": true,
       "setup": "",
       "teardown": "",
       "type": "doctest"
      }
     ]
    },
    "Read data": {
     "name": "Read data",
     "points": 1,
     "suites": [
      {
       "cases": [
        {
         "code": ">>> assert wrist_torque_data.shape == (660, 40 * 3)\n",
         "hidden": false,
         "locked": false
        }
       ],
       "scored": true,
       "setup": "",
       "teardown": "",
       "type": "doctest"
      }
     ]
    },
    "hours_collaborators": {
     "name": "hours_collaborators",
     "points": 1,
     "suites": [
      {
       "cases": [
        {
         "code": ">>> assert not 'not filled out' in worked_with_names\n",
         "hidden": false,
         "locked": false
        },
        {
         "code": ">>> assert not 'not filled out' in websites\n",
         "hidden": false,
         "locked": false
        },
        {
         "code": ">>> assert hours > 0\n",
         "hidden": false,
         "locked": false
        }
       ],
       "scored": true,
       "setup": "",
       "teardown": "",
       "type": "doctest"
      }
     ]
    }
   }
  }
 },
 "nbformat": 4,
 "nbformat_minor": 2
}
